{
 "cells": [
  {
   "cell_type": "code",
   "execution_count": 2,
   "metadata": {
    "collapsed": false
   },
   "outputs": [],
   "source": [
    "import numpy as np\n",
    "import matplotlib.pyplot as plt\n",
    "from astropy.io import ascii \n",
    "%matplotlib inline\n",
    "\n",
    "from __future__ import division\n",
    "\n",
    "lbl_ft_sz = 12\n",
    "title_ft_sz = 14\n",
    "\n",
    "import matplotlib.font_manager as fm\n",
    "prop = fm.FontProperties(fname='./texgyreadventor-regular.otf')"
   ]
  },
  {
   "cell_type": "code",
   "execution_count": 3,
   "metadata": {
    "collapsed": false
   },
   "outputs": [
    {
     "data": {
      "image/png": "[encoded data removed]",
      "text/plain": [
       "<matplotlib.figure.Figure at 0x7f4c80587f90>"
      ]
     },
     "metadata": {},
     "output_type": "display_data"
    }
   ],
   "source": [
    "#filename = \"./Lab0_Grades.csv\"\n",
    "#datalist = ascii.read(filename)\n",
    "\n",
    "\n",
    "grades_l = np.array([37, 38, 37, 40, 37, 36, 30, 37, 36, 30, 37, 36, 38, 39, 39, 40, 37, 37, 36, 40, 39, 38, 39, 35, 39])\n",
    "plt.hist(grades_l, bins=11, color='blue')\n",
    "plt.xticks(np.linspace(0, 10, 11))\n",
    "plt.yticks(np.linspace(0, 20, 6))\n",
    "plt.ylabel('Number of Students', fontproperties=prop, size=lbl_ft_sz)\n",
    "plt.xlabel('Lab Score (out of 10)', fontproperties=prop, size=lbl_ft_sz)\n",
    "plt.text(4, 17, 'Lab 1 Grades', fontproperties=prop, size=title_ft_sz + 5, color='blue')\n",
    "plt.savefig('Lab1_Grades.jpg', format='jpg', dpi=150)\n",
    "plt.show()"
   ]
  },
  {
   "cell_type": "code",
   "execution_count": null,
   "metadata": {
    "collapsed": true
   },
   "outputs": [],
   "source": []
  }
 ],
 "metadata": {
  "kernelspec": {
   "display_name": "Python 2",
   "language": "python",
   "name": "python2"
  },
  "language_info": {
   "codemirror_mode": {
    "name": "ipython",
    "version": 2
   },
   "file_extension": ".py",
   "mimetype": "text/x-python",
   "name": "python",
   "nbconvert_exporter": "python",
   "pygments_lexer": "ipython2",
   "version": "2.7.11"
  }
 },
 "nbformat": 4,
 "nbformat_minor": 0
}
